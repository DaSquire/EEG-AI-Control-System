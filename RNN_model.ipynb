{
 "cells": [
  {
   "cell_type": "code",
   "execution_count": null,
   "metadata": {},
   "outputs": [],
   "source": [
    "import Raw_EEG_processing\n",
    "\n",
    "dataset = Raw_EEG_processing.load_data(subject_id_list=[1])"
   ]
  },
  {
   "cell_type": "code",
   "execution_count": null,
   "metadata": {},
   "outputs": [],
   "source": [
    "\"\"\"\"\n",
    "from pyeeglab import *\n",
    "\n",
    "\n",
    "def EEG_clean():\n",
    "    dataset = TUHEEGAbnormalDataset()\n",
    "    preprocessing = Pipeline([\n",
    "        CommonChannelSet(),\n",
    "        LowestFrequency(),\n",
    "        ToDataframe(),\n",
    "        MinMaxCentralizedNormalization(),\n",
    "        DynamicWindow(8),\n",
    "        ToNumpy()\n",
    "    ])\n",
    "    dataset = dataset.set_pipeline(preprocessing).load()\n",
    "    data, labels = dataset['data'], dataset['labels']\n",
    "\"\"\"\n",
    "from scipy.io import loadmat\n",
    "annots = loadmat(r'C:\\Users\\ingra\\OneDrive\\Desktop\\Professional_Studio_A\\EEG-AI-Control-System\\EEG_Data\\B01T.mat')\n",
    "print(annots)"
   ]
  }
 ],
 "metadata": {
  "kernelspec": {
   "display_name": "Python 3.10.6 64-bit",
   "language": "python",
   "name": "python3"
  },
  "language_info": {
   "codemirror_mode": {
    "name": "ipython",
    "version": 3
   },
   "file_extension": ".py",
   "mimetype": "text/x-python",
   "name": "python",
   "nbconvert_exporter": "python",
   "pygments_lexer": "ipython3",
   "version": "3.10.6"
  },
  "orig_nbformat": 4,
  "vscode": {
   "interpreter": {
    "hash": "aee8b7b246df8f9039afb4144a1f6fd8d2ca17a180786b69acc140d282b71a49"
   }
  }
 },
 "nbformat": 4,
 "nbformat_minor": 2
}
